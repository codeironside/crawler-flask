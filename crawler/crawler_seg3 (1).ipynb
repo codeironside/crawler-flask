{
  "nbformat": 4,
  "nbformat_minor": 0,
  "metadata": {
    "colab": {
      "provenance": []
    },
    "kernelspec": {
      "name": "python3",
      "display_name": "Python 3"
    },
    "language_info": {
      "name": "python"
    }
  },
  "cells": [
    {
      "cell_type": "code",
      "execution_count": null,
      "metadata": {
        "colab": {
          "base_uri": "https://localhost:8080/"
        },
        "id": "y3NMLk1k_5Dh",
        "outputId": "ab67edc6-4669-4894-9dfc-804da8849527"
      },
      "outputs": [
        {
          "output_type": "stream",
          "name": "stdout",
          "text": [
            "Requirement already satisfied: requests in /usr/local/lib/python3.10/dist-packages (2.31.0)\n",
            "Requirement already satisfied: charset-normalizer<4,>=2 in /usr/local/lib/python3.10/dist-packages (from requests) (3.3.2)\n",
            "Requirement already satisfied: idna<4,>=2.5 in /usr/local/lib/python3.10/dist-packages (from requests) (3.6)\n",
            "Requirement already satisfied: urllib3<3,>=1.21.1 in /usr/local/lib/python3.10/dist-packages (from requests) (2.0.7)\n",
            "Requirement already satisfied: certifi>=2017.4.17 in /usr/local/lib/python3.10/dist-packages (from requests) (2023.11.17)\n"
          ]
        }
      ],
      "source": [
        "!pip install --upgrade requests"
      ]
    },
    {
      "cell_type": "code",
      "source": [
        "!pip install playwright bs4 pillow requests"
      ],
      "metadata": {
        "colab": {
          "base_uri": "https://localhost:8080/"
        },
        "id": "xJJ709bGAasR",
        "outputId": "9bf786b9-17bc-491c-85b3-e4cfa055589f"
      },
      "execution_count": null,
      "outputs": [
        {
          "output_type": "stream",
          "name": "stdout",
          "text": [
            "Collecting playwright\n",
            "  Downloading playwright-1.40.0-py3-none-manylinux1_x86_64.whl (37.2 MB)\n",
            "\u001b[2K     \u001b[90m━━━━━━━━━━━━━━━━━━━━━━━━━━━━━━━━━━━━━━━━\u001b[0m \u001b[32m37.2/37.2 MB\u001b[0m \u001b[31m28.0 MB/s\u001b[0m eta \u001b[36m0:00:00\u001b[0m\n",
            "\u001b[?25hCollecting bs4\n",
            "  Downloading bs4-0.0.1.tar.gz (1.1 kB)\n",
            "  Preparing metadata (setup.py) ... \u001b[?25l\u001b[?25hdone\n",
            "Requirement already satisfied: pillow in /usr/local/lib/python3.10/dist-packages (9.4.0)\n",
            "Requirement already satisfied: requests in /usr/local/lib/python3.10/dist-packages (2.31.0)\n",
            "Requirement already satisfied: greenlet==3.0.1 in /usr/local/lib/python3.10/dist-packages (from playwright) (3.0.1)\n",
            "Collecting pyee==11.0.1 (from playwright)\n",
            "  Downloading pyee-11.0.1-py3-none-any.whl (15 kB)\n",
            "Requirement already satisfied: typing-extensions in /usr/local/lib/python3.10/dist-packages (from pyee==11.0.1->playwright) (4.5.0)\n",
            "Requirement already satisfied: beautifulsoup4 in /usr/local/lib/python3.10/dist-packages (from bs4) (4.11.2)\n",
            "Requirement already satisfied: charset-normalizer<4,>=2 in /usr/local/lib/python3.10/dist-packages (from requests) (3.3.2)\n",
            "Requirement already satisfied: idna<4,>=2.5 in /usr/local/lib/python3.10/dist-packages (from requests) (3.6)\n",
            "Requirement already satisfied: urllib3<3,>=1.21.1 in /usr/local/lib/python3.10/dist-packages (from requests) (2.0.7)\n",
            "Requirement already satisfied: certifi>=2017.4.17 in /usr/local/lib/python3.10/dist-packages (from requests) (2023.11.17)\n",
            "Requirement already satisfied: soupsieve>1.2 in /usr/local/lib/python3.10/dist-packages (from beautifulsoup4->bs4) (2.5)\n",
            "Building wheels for collected packages: bs4\n",
            "  Building wheel for bs4 (setup.py) ... \u001b[?25l\u001b[?25hdone\n",
            "  Created wheel for bs4: filename=bs4-0.0.1-py3-none-any.whl size=1256 sha256=9760244cb9fd2a92aa855269949a5577ae25b5954219e7b1a065fe0289e173b1\n",
            "  Stored in directory: /root/.cache/pip/wheels/25/42/45/b773edc52acb16cd2db4cf1a0b47117e2f69bb4eb300ed0e70\n",
            "Successfully built bs4\n",
            "Installing collected packages: pyee, playwright, bs4\n",
            "Successfully installed bs4-0.0.1 playwright-1.40.0 pyee-11.0.1\n"
          ]
        }
      ]
    },
    {
      "cell_type": "code",
      "source": [
        "!playwright install"
      ],
      "metadata": {
        "colab": {
          "base_uri": "https://localhost:8080/"
        },
        "id": "MEXq2YtBAavv",
        "outputId": "562fb05d-784f-4a50-a697-d9412f0197b9"
      },
      "execution_count": null,
      "outputs": [
        {
          "output_type": "stream",
          "name": "stdout",
          "text": [
            "Downloading Chromium 120.0.6099.28 (playwright build v1091)\u001b[2m from https://playwright.azureedge.net/builds/chromium/1091/chromium-linux.zip\u001b[22m\n",
            "\u001b[1G153.1 Mb [] 0% 0.0s\u001b[0K\u001b[1G153.1 Mb [] 0% 12.1s\u001b[0K\u001b[1G153.1 Mb [] 0% 13.1s\u001b[0K\u001b[1G153.1 Mb [] 0% 13.2s\u001b[0K\u001b[1G153.1 Mb [] 0% 7.5s\u001b[0K\u001b[1G153.1 Mb [] 1% 5.7s\u001b[0K\u001b[1G153.1 Mb [] 2% 4.8s\u001b[0K\u001b[1G153.1 Mb [] 2% 4.5s\u001b[0K\u001b[1G153.1 Mb [] 2% 4.7s\u001b[0K\u001b[1G153.1 Mb [] 3% 4.5s\u001b[0K\u001b[1G153.1 Mb [] 3% 4.8s\u001b[0K\u001b[1G153.1 Mb [] 3% 4.6s\u001b[0K\u001b[1G153.1 Mb [] 4% 4.3s\u001b[0K\u001b[1G153.1 Mb [] 4% 4.5s\u001b[0K\u001b[1G153.1 Mb [] 5% 4.2s\u001b[0K\u001b[1G153.1 Mb [] 5% 4.0s\u001b[0K\u001b[1G153.1 Mb [] 6% 4.0s\u001b[0K\u001b[1G153.1 Mb [] 7% 3.8s\u001b[0K\u001b[1G153.1 Mb [] 7% 3.7s\u001b[0K\u001b[1G153.1 Mb [] 8% 3.6s\u001b[0K\u001b[1G153.1 Mb [] 9% 3.4s\u001b[0K\u001b[1G153.1 Mb [] 9% 3.3s\u001b[0K\u001b[1G153.1 Mb [] 10% 3.4s\u001b[0K\u001b[1G153.1 Mb [] 10% 3.3s\u001b[0K\u001b[1G153.1 Mb [] 11% 3.2s\u001b[0K\u001b[1G153.1 Mb [] 12% 3.1s\u001b[0K\u001b[1G153.1 Mb [] 12% 3.2s\u001b[0K\u001b[1G153.1 Mb [] 12% 3.1s\u001b[0K\u001b[1G153.1 Mb [] 13% 3.0s\u001b[0K\u001b[1G153.1 Mb [] 14% 3.0s\u001b[0K\u001b[1G153.1 Mb [] 15% 3.0s\u001b[0K\u001b[1G153.1 Mb [] 16% 2.9s\u001b[0K\u001b[1G153.1 Mb [] 17% 2.8s\u001b[0K\u001b[1G153.1 Mb [] 17% 2.9s\u001b[0K\u001b[1G153.1 Mb [] 18% 2.8s\u001b[0K\u001b[1G153.1 Mb [] 19% 2.7s\u001b[0K\u001b[1G153.1 Mb [] 20% 2.5s\u001b[0K\u001b[1G153.1 Mb [] 21% 2.4s\u001b[0K\u001b[1G153.1 Mb [] 21% 2.5s\u001b[0K\u001b[1G153.1 Mb [] 23% 2.4s\u001b[0K\u001b[1G153.1 Mb [] 24% 2.4s\u001b[0K\u001b[1G153.1 Mb [] 25% 2.4s\u001b[0K\u001b[1G153.1 Mb [] 26% 2.4s\u001b[0K\u001b[1G153.1 Mb [] 27% 2.3s\u001b[0K\u001b[1G153.1 Mb [] 28% 2.3s\u001b[0K\u001b[1G153.1 Mb [] 29% 2.2s\u001b[0K\u001b[1G153.1 Mb [] 30% 2.2s\u001b[0K\u001b[1G153.1 Mb [] 31% 2.1s\u001b[0K\u001b[1G153.1 Mb [] 32% 2.1s\u001b[0K\u001b[1G153.1 Mb [] 33% 2.1s\u001b[0K\u001b[1G153.1 Mb [] 33% 2.0s\u001b[0K\u001b[1G153.1 Mb [] 34% 2.0s\u001b[0K\u001b[1G153.1 Mb [] 35% 2.0s\u001b[0K\u001b[1G153.1 Mb [] 36% 2.0s\u001b[0K\u001b[1G153.1 Mb [] 37% 1.9s\u001b[0K\u001b[1G153.1 Mb [] 38% 1.9s\u001b[0K\u001b[1G153.1 Mb [] 39% 1.8s\u001b[0K\u001b[1G153.1 Mb [] 40% 1.8s\u001b[0K\u001b[1G153.1 Mb [] 41% 1.8s\u001b[0K\u001b[1G153.1 Mb [] 41% 1.7s\u001b[0K\u001b[1G153.1 Mb [] 42% 1.7s\u001b[0K\u001b[1G153.1 Mb [] 43% 1.7s\u001b[0K\u001b[1G153.1 Mb [] 44% 1.7s\u001b[0K\u001b[1G153.1 Mb [] 45% 1.6s\u001b[0K\u001b[1G153.1 Mb [] 46% 1.6s\u001b[0K\u001b[1G153.1 Mb [] 47% 1.5s\u001b[0K\u001b[1G153.1 Mb [] 48% 1.5s\u001b[0K\u001b[1G153.1 Mb [] 49% 1.4s\u001b[0K\u001b[1G153.1 Mb [] 50% 1.4s\u001b[0K\u001b[1G153.1 Mb [] 51% 1.4s\u001b[0K\u001b[1G153.1 Mb [] 52% 1.3s\u001b[0K\u001b[1G153.1 Mb [] 53% 1.3s\u001b[0K\u001b[1G153.1 Mb [] 54% 1.2s\u001b[0K\u001b[1G153.1 Mb [] 55% 1.2s\u001b[0K\u001b[1G153.1 Mb [] 56% 1.2s\u001b[0K\u001b[1G153.1 Mb [] 57% 1.2s\u001b[0K\u001b[1G153.1 Mb [] 58% 1.2s\u001b[0K\u001b[1G153.1 Mb [] 58% 1.1s\u001b[0K\u001b[1G153.1 Mb [] 59% 1.1s\u001b[0K\u001b[1G153.1 Mb [] 60% 1.1s\u001b[0K\u001b[1G153.1 Mb [] 61% 1.1s\u001b[0K\u001b[1G153.1 Mb [] 62% 1.0s\u001b[0K\u001b[1G153.1 Mb [] 63% 1.0s\u001b[0K\u001b[1G153.1 Mb [] 64% 1.0s\u001b[0K\u001b[1G153.1 Mb [] 65% 0.9s\u001b[0K\u001b[1G153.1 Mb [] 66% 0.9s\u001b[0K\u001b[1G153.1 Mb [] 67% 0.9s\u001b[0K\u001b[1G153.1 Mb [] 68% 0.9s\u001b[0K\u001b[1G153.1 Mb [] 69% 0.8s\u001b[0K\u001b[1G153.1 Mb [] 70% 0.8s\u001b[0K\u001b[1G153.1 Mb [] 71% 0.8s\u001b[0K\u001b[1G153.1 Mb [] 72% 0.8s\u001b[0K\u001b[1G153.1 Mb [] 72% 0.7s\u001b[0K\u001b[1G153.1 Mb [] 73% 0.7s\u001b[0K\u001b[1G153.1 Mb [] 74% 0.7s\u001b[0K\u001b[1G153.1 Mb [] 75% 0.7s\u001b[0K\u001b[1G153.1 Mb [] 76% 0.7s\u001b[0K\u001b[1G153.1 Mb [] 77% 0.7s\u001b[0K\u001b[1G153.1 Mb [] 78% 0.6s\u001b[0K\u001b[1G153.1 Mb [] 79% 0.6s\u001b[0K\u001b[1G153.1 Mb [] 80% 0.6s\u001b[0K\u001b[1G153.1 Mb [] 81% 0.5s\u001b[0K\u001b[1G153.1 Mb [] 82% 0.5s\u001b[0K\u001b[1G153.1 Mb [] 83% 0.5s\u001b[0K\u001b[1G153.1 Mb [] 84% 0.5s\u001b[0K\u001b[1G153.1 Mb [] 84% 0.4s\u001b[0K\u001b[1G153.1 Mb [] 85% 0.4s\u001b[0K\u001b[1G153.1 Mb [] 86% 0.4s\u001b[0K\u001b[1G153.1 Mb [] 87% 0.4s\u001b[0K\u001b[1G153.1 Mb [] 88% 0.3s\u001b[0K\u001b[1G153.1 Mb [] 89% 0.3s\u001b[0K\u001b[1G153.1 Mb [] 90% 0.3s\u001b[0K\u001b[1G153.1 Mb [] 91% 0.3s\u001b[0K\u001b[1G153.1 Mb [] 91% 0.2s\u001b[0K\u001b[1G153.1 Mb [] 92% 0.2s\u001b[0K\u001b[1G153.1 Mb [] 93% 0.2s\u001b[0K\u001b[1G153.1 Mb [] 94% 0.2s\u001b[0K\u001b[1G153.1 Mb [] 95% 0.1s\u001b[0K\u001b[1G153.1 Mb [] 96% 0.1s\u001b[0K\u001b[1G153.1 Mb [] 97% 0.1s\u001b[0K\u001b[1G153.1 Mb [] 98% 0.1s\u001b[0K\u001b[1G153.1 Mb [] 98% 0.0s\u001b[0K\u001b[1G153.1 Mb [] 99% 0.0s\u001b[0K\u001b[1G153.1 Mb [] 100% 0.0s\u001b[0K\n",
            "Chromium 120.0.6099.28 (playwright build v1091) downloaded to /root/.cache/ms-playwright/chromium-1091\n",
            "Downloading FFMPEG playwright build v1009\u001b[2m from https://playwright.azureedge.net/builds/ffmpeg/1009/ffmpeg-linux.zip\u001b[22m\n",
            "\u001b[1G2.6 Mb [] 0% 0.0s\u001b[0K\u001b[1G2.6 Mb [] 3% 0.5s\u001b[0K\u001b[1G2.6 Mb [] 9% 0.3s\u001b[0K\u001b[1G2.6 Mb [] 17% 0.2s\u001b[0K\u001b[1G2.6 Mb [] 31% 0.1s\u001b[0K\u001b[1G2.6 Mb [] 40% 0.1s\u001b[0K\u001b[1G2.6 Mb [] 56% 0.1s\u001b[0K\u001b[1G2.6 Mb [] 74% 0.0s\u001b[0K\u001b[1G2.6 Mb [] 91% 0.0s\u001b[0K\u001b[1G2.6 Mb [] 99% 0.0s\u001b[0K\u001b[1G2.6 Mb [] 100% 0.0s\u001b[0K\n",
            "FFMPEG playwright build v1009 downloaded to /root/.cache/ms-playwright/ffmpeg-1009\n",
            "Downloading Firefox 119.0 (playwright build v1429)\u001b[2m from https://playwright.azureedge.net/builds/firefox/1429/firefox-ubuntu-22.04.zip\u001b[22m\n",
            "\u001b[1G80.9 Mb [] 0% 0.0s\u001b[0K\u001b[1G80.9 Mb [] 0% 4.9s\u001b[0K\u001b[1G80.9 Mb [] 1% 2.4s\u001b[0K\u001b[1G80.9 Mb [] 2% 2.3s\u001b[0K\u001b[1G80.9 Mb [] 3% 2.0s\u001b[0K\u001b[1G80.9 Mb [] 4% 1.8s\u001b[0K\u001b[1G80.9 Mb [] 5% 1.8s\u001b[0K\u001b[1G80.9 Mb [] 5% 1.9s\u001b[0K\u001b[1G80.9 Mb [] 6% 1.9s\u001b[0K\u001b[1G80.9 Mb [] 7% 1.8s\u001b[0K\u001b[1G80.9 Mb [] 8% 1.8s\u001b[0K\u001b[1G80.9 Mb [] 9% 1.7s\u001b[0K\u001b[1G80.9 Mb [] 10% 1.7s\u001b[0K\u001b[1G80.9 Mb [] 11% 1.6s\u001b[0K\u001b[1G80.9 Mb [] 12% 1.6s\u001b[0K\u001b[1G80.9 Mb [] 13% 1.6s\u001b[0K\u001b[1G80.9 Mb [] 14% 1.5s\u001b[0K\u001b[1G80.9 Mb [] 15% 1.5s\u001b[0K\u001b[1G80.9 Mb [] 16% 1.5s\u001b[0K\u001b[1G80.9 Mb [] 18% 1.4s\u001b[0K\u001b[1G80.9 Mb [] 19% 1.3s\u001b[0K\u001b[1G80.9 Mb [] 21% 1.3s\u001b[0K\u001b[1G80.9 Mb [] 22% 1.3s\u001b[0K\u001b[1G80.9 Mb [] 23% 1.3s\u001b[0K\u001b[1G80.9 Mb [] 24% 1.2s\u001b[0K\u001b[1G80.9 Mb [] 25% 1.2s\u001b[0K\u001b[1G80.9 Mb [] 26% 1.2s\u001b[0K\u001b[1G80.9 Mb [] 28% 1.1s\u001b[0K\u001b[1G80.9 Mb [] 30% 1.1s\u001b[0K\u001b[1G80.9 Mb [] 31% 1.1s\u001b[0K\u001b[1G80.9 Mb [] 32% 1.1s\u001b[0K\u001b[1G80.9 Mb [] 33% 1.1s\u001b[0K\u001b[1G80.9 Mb [] 34% 1.1s\u001b[0K\u001b[1G80.9 Mb [] 36% 1.0s\u001b[0K\u001b[1G80.9 Mb [] 37% 1.0s\u001b[0K\u001b[1G80.9 Mb [] 39% 0.9s\u001b[0K\u001b[1G80.9 Mb [] 40% 0.9s\u001b[0K\u001b[1G80.9 Mb [] 42% 0.9s\u001b[0K\u001b[1G80.9 Mb [] 43% 0.8s\u001b[0K\u001b[1G80.9 Mb [] 46% 0.8s\u001b[0K\u001b[1G80.9 Mb [] 47% 0.8s\u001b[0K\u001b[1G80.9 Mb [] 48% 0.7s\u001b[0K\u001b[1G80.9 Mb [] 49% 0.7s\u001b[0K\u001b[1G80.9 Mb [] 51% 0.7s\u001b[0K\u001b[1G80.9 Mb [] 52% 0.7s\u001b[0K\u001b[1G80.9 Mb [] 54% 0.7s\u001b[0K\u001b[1G80.9 Mb [] 55% 0.6s\u001b[0K\u001b[1G80.9 Mb [] 57% 0.6s\u001b[0K\u001b[1G80.9 Mb [] 59% 0.6s\u001b[0K\u001b[1G80.9 Mb [] 60% 0.6s\u001b[0K\u001b[1G80.9 Mb [] 62% 0.5s\u001b[0K\u001b[1G80.9 Mb [] 64% 0.5s\u001b[0K\u001b[1G80.9 Mb [] 66% 0.5s\u001b[0K\u001b[1G80.9 Mb [] 68% 0.4s\u001b[0K\u001b[1G80.9 Mb [] 69% 0.4s\u001b[0K\u001b[1G80.9 Mb [] 71% 0.4s\u001b[0K\u001b[1G80.9 Mb [] 72% 0.4s\u001b[0K\u001b[1G80.9 Mb [] 74% 0.3s\u001b[0K\u001b[1G80.9 Mb [] 76% 0.3s\u001b[0K\u001b[1G80.9 Mb [] 78% 0.3s\u001b[0K\u001b[1G80.9 Mb [] 81% 0.2s\u001b[0K\u001b[1G80.9 Mb [] 82% 0.2s\u001b[0K\u001b[1G80.9 Mb [] 85% 0.2s\u001b[0K\u001b[1G80.9 Mb [] 87% 0.2s\u001b[0K\u001b[1G80.9 Mb [] 89% 0.1s\u001b[0K\u001b[1G80.9 Mb [] 91% 0.1s\u001b[0K\u001b[1G80.9 Mb [] 93% 0.1s\u001b[0K\u001b[1G80.9 Mb [] 94% 0.1s\u001b[0K\u001b[1G80.9 Mb [] 96% 0.0s\u001b[0K\u001b[1G80.9 Mb [] 97% 0.0s\u001b[0K\u001b[1G80.9 Mb [] 99% 0.0s\u001b[0K\u001b[1G80.9 Mb [] 100% 0.0s\u001b[0K\n",
            "Firefox 119.0 (playwright build v1429) downloaded to /root/.cache/ms-playwright/firefox-1429\n",
            "Downloading Webkit 17.4 (playwright build v1944)\u001b[2m from https://playwright.azureedge.net/builds/webkit/1944/webkit-ubuntu-22.04.zip\u001b[22m\n",
            "\u001b[1G83.7 Mb [] 0% 0.0s\u001b[0K\u001b[1G83.7 Mb [] 0% 16.2s\u001b[0K\u001b[1G83.7 Mb [] 0% 14.1s\u001b[0K\u001b[1G83.7 Mb [] 0% 9.9s\u001b[0K\u001b[1G83.7 Mb [] 1% 6.9s\u001b[0K\u001b[1G83.7 Mb [] 1% 5.0s\u001b[0K\u001b[1G83.7 Mb [] 2% 3.9s\u001b[0K\u001b[1G83.7 Mb [] 3% 3.1s\u001b[0K\u001b[1G83.7 Mb [] 4% 2.8s\u001b[0K\u001b[1G83.7 Mb [] 5% 2.8s\u001b[0K\u001b[1G83.7 Mb [] 5% 2.7s\u001b[0K\u001b[1G83.7 Mb [] 7% 2.4s\u001b[0K\u001b[1G83.7 Mb [] 8% 2.4s\u001b[0K\u001b[1G83.7 Mb [] 9% 2.1s\u001b[0K\u001b[1G83.7 Mb [] 10% 2.0s\u001b[0K\u001b[1G83.7 Mb [] 12% 1.9s\u001b[0K\u001b[1G83.7 Mb [] 13% 1.8s\u001b[0K\u001b[1G83.7 Mb [] 14% 1.7s\u001b[0K\u001b[1G83.7 Mb [] 15% 1.7s\u001b[0K\u001b[1G83.7 Mb [] 16% 1.6s\u001b[0K\u001b[1G83.7 Mb [] 17% 1.6s\u001b[0K\u001b[1G83.7 Mb [] 18% 1.6s\u001b[0K\u001b[1G83.7 Mb [] 19% 1.5s\u001b[0K\u001b[1G83.7 Mb [] 21% 1.5s\u001b[0K\u001b[1G83.7 Mb [] 22% 1.4s\u001b[0K\u001b[1G83.7 Mb [] 23% 1.4s\u001b[0K\u001b[1G83.7 Mb [] 24% 1.3s\u001b[0K\u001b[1G83.7 Mb [] 25% 1.3s\u001b[0K\u001b[1G83.7 Mb [] 27% 1.3s\u001b[0K\u001b[1G83.7 Mb [] 28% 1.2s\u001b[0K\u001b[1G83.7 Mb [] 29% 1.2s\u001b[0K\u001b[1G83.7 Mb [] 30% 1.3s\u001b[0K\u001b[1G83.7 Mb [] 31% 1.3s\u001b[0K\u001b[1G83.7 Mb [] 32% 1.3s\u001b[0K\u001b[1G83.7 Mb [] 33% 1.3s\u001b[0K\u001b[1G83.7 Mb [] 34% 1.3s\u001b[0K\u001b[1G83.7 Mb [] 35% 1.3s\u001b[0K\u001b[1G83.7 Mb [] 35% 1.4s\u001b[0K\u001b[1G83.7 Mb [] 36% 1.4s\u001b[0K\u001b[1G83.7 Mb [] 37% 1.3s\u001b[0K\u001b[1G83.7 Mb [] 37% 1.4s\u001b[0K\u001b[1G83.7 Mb [] 38% 1.4s\u001b[0K\u001b[1G83.7 Mb [] 39% 1.3s\u001b[0K\u001b[1G83.7 Mb [] 40% 1.3s\u001b[0K\u001b[1G83.7 Mb [] 41% 1.2s\u001b[0K\u001b[1G83.7 Mb [] 42% 1.2s\u001b[0K\u001b[1G83.7 Mb [] 43% 1.2s\u001b[0K\u001b[1G83.7 Mb [] 44% 1.2s\u001b[0K\u001b[1G83.7 Mb [] 46% 1.1s\u001b[0K\u001b[1G83.7 Mb [] 47% 1.1s\u001b[0K\u001b[1G83.7 Mb [] 48% 1.1s\u001b[0K\u001b[1G83.7 Mb [] 48% 1.0s\u001b[0K\u001b[1G83.7 Mb [] 50% 1.0s\u001b[0K\u001b[1G83.7 Mb [] 51% 1.0s\u001b[0K\u001b[1G83.7 Mb [] 52% 0.9s\u001b[0K\u001b[1G83.7 Mb [] 54% 0.9s\u001b[0K\u001b[1G83.7 Mb [] 55% 0.9s\u001b[0K\u001b[1G83.7 Mb [] 56% 0.9s\u001b[0K\u001b[1G83.7 Mb [] 57% 0.8s\u001b[0K\u001b[1G83.7 Mb [] 58% 0.8s\u001b[0K\u001b[1G83.7 Mb [] 59% 0.8s\u001b[0K\u001b[1G83.7 Mb [] 60% 0.8s\u001b[0K\u001b[1G83.7 Mb [] 61% 0.8s\u001b[0K\u001b[1G83.7 Mb [] 62% 0.8s\u001b[0K\u001b[1G83.7 Mb [] 63% 0.8s\u001b[0K\u001b[1G83.7 Mb [] 64% 0.8s\u001b[0K\u001b[1G83.7 Mb [] 65% 0.7s\u001b[0K\u001b[1G83.7 Mb [] 66% 0.7s\u001b[0K\u001b[1G83.7 Mb [] 67% 0.7s\u001b[0K\u001b[1G83.7 Mb [] 68% 0.7s\u001b[0K\u001b[1G83.7 Mb [] 69% 0.7s\u001b[0K\u001b[1G83.7 Mb [] 69% 0.6s\u001b[0K\u001b[1G83.7 Mb [] 70% 0.6s\u001b[0K\u001b[1G83.7 Mb [] 71% 0.6s\u001b[0K\u001b[1G83.7 Mb [] 73% 0.6s\u001b[0K\u001b[1G83.7 Mb [] 74% 0.5s\u001b[0K\u001b[1G83.7 Mb [] 75% 0.5s\u001b[0K\u001b[1G83.7 Mb [] 76% 0.5s\u001b[0K\u001b[1G83.7 Mb [] 78% 0.5s\u001b[0K\u001b[1G83.7 Mb [] 79% 0.4s\u001b[0K\u001b[1G83.7 Mb [] 80% 0.4s\u001b[0K\u001b[1G83.7 Mb [] 81% 0.4s\u001b[0K\u001b[1G83.7 Mb [] 82% 0.4s\u001b[0K\u001b[1G83.7 Mb [] 84% 0.3s\u001b[0K\u001b[1G83.7 Mb [] 85% 0.3s\u001b[0K\u001b[1G83.7 Mb [] 86% 0.3s\u001b[0K\u001b[1G83.7 Mb [] 87% 0.3s\u001b[0K\u001b[1G83.7 Mb [] 88% 0.2s\u001b[0K\u001b[1G83.7 Mb [] 89% 0.2s\u001b[0K\u001b[1G83.7 Mb [] 90% 0.2s\u001b[0K\u001b[1G83.7 Mb [] 92% 0.2s\u001b[0K\u001b[1G83.7 Mb [] 93% 0.1s\u001b[0K\u001b[1G83.7 Mb [] 95% 0.1s\u001b[0K\u001b[1G83.7 Mb [] 96% 0.1s\u001b[0K\u001b[1G83.7 Mb [] 98% 0.0s\u001b[0K\u001b[1G83.7 Mb [] 99% 0.0s\u001b[0K\u001b[1G83.7 Mb [] 100% 0.0s\u001b[0K\n",
            "Webkit 17.4 (playwright build v1944) downloaded to /root/.cache/ms-playwright/webkit-1944\n"
          ]
        }
      ]
    },
    {
      "cell_type": "code",
      "source": [
        "!playwright install-deps"
      ],
      "metadata": {
        "colab": {
          "base_uri": "https://localhost:8080/"
        },
        "id": "3y1h8nyWAazQ",
        "outputId": "f7fd7c47-b171-4df9-9193-81bd0de91425"
      },
      "execution_count": null,
      "outputs": [
        {
          "output_type": "stream",
          "name": "stdout",
          "text": [
            "Installing dependencies...\n",
            "Hit:1 http://archive.ubuntu.com/ubuntu jammy InRelease\n",
            "Get:2 http://archive.ubuntu.com/ubuntu jammy-updates InRelease [119 kB]\n",
            "Hit:3 http://archive.ubuntu.com/ubuntu jammy-backports InRelease\n",
            "Get:4 https://cloud.r-project.org/bin/linux/ubuntu jammy-cran40/ InRelease [3,626 B]\n",
            "Get:5 http://security.ubuntu.com/ubuntu jammy-security InRelease [110 kB]\n",
            "Hit:6 https://developer.download.nvidia.com/compute/cuda/repos/ubuntu2204/x86_64  InRelease\n",
            "Get:7 https://ppa.launchpadcontent.net/c2d4u.team/c2d4u4.0+/ubuntu jammy InRelease [18.1 kB]\n",
            "Hit:8 https://ppa.launchpadcontent.net/deadsnakes/ppa/ubuntu jammy InRelease\n",
            "Hit:9 https://ppa.launchpadcontent.net/graphics-drivers/ppa/ubuntu jammy InRelease\n",
            "Hit:10 https://ppa.launchpadcontent.net/ubuntugis/ppa/ubuntu jammy InRelease\n",
            "Get:11 http://archive.ubuntu.com/ubuntu jammy-updates/main amd64 Packages [1,535 kB]\n",
            "Get:12 http://archive.ubuntu.com/ubuntu jammy-updates/universe amd64 Packages [1,298 kB]\n",
            "Get:13 https://ppa.launchpadcontent.net/c2d4u.team/c2d4u4.0+/ubuntu jammy/main Sources [2,246 kB]\n",
            "Get:14 https://ppa.launchpadcontent.net/c2d4u.team/c2d4u4.0+/ubuntu jammy/main amd64 Packages [1,153 kB]\n",
            "Get:15 http://security.ubuntu.com/ubuntu jammy-security/universe amd64 Packages [1,030 kB]\n",
            "Fetched 7,513 kB in 3s (2,489 kB/s)\n"
          ]
        }
      ]
    },
    {
      "cell_type": "code",
      "source": [
        "!pip install pandas openpyxl"
      ],
      "metadata": {
        "id": "PQhvz8U0Aa2Z"
      },
      "execution_count": null,
      "outputs": []
    },
    {
      "cell_type": "code",
      "source": [
        "import requests\n",
        "import pandas as pd\n",
        "import time\n",
        "\n",
        "\n",
        "def clean_text(text):\n",
        "    # Replace illegal characters with underscores\n",
        "    cleaned_text = re.sub(r'[\\\\/*?[\\]:]', '_', text)\n",
        "    return cleaned_text\n",
        "\n",
        "def scrape_api():\n",
        "    url = \"https://cate-search.hktvmall.com/query/products\"\n",
        "    headers = {\n",
        "        \"Accept\": \"application/json, text/javascript, */*; q=0.01\",\n",
        "        \"Accept-Encoding\": \"gzip, deflate, br\",\n",
        "        \"Accept-Language\": \"en-US,en;q=0.9\",\n",
        "        \"Content-Type\": \"application/x-www-form-urlencoded; charset=UTF-8\",\n",
        "        \"Origin\": \"https://www.hktvmall.com\",\n",
        "        \"Referer\": \"https://www.hktvmall.com/\",\n",
        "        \"Sec-Ch-Ua\": \"\\\"Microsoft Edge\\\";v=\\\"119\\\", \\\"Chromium\\\";v=\\\"119\\\", \\\"Not?A_Brand\\\";v=\\\"24\\\"\",\n",
        "        \"Sec-Ch-Ua-Mobile\": \"?0\",\n",
        "        \"Sec-Ch-Ua-Platform\": \"\\\"Windows\\\"\",\n",
        "        \"Sec-Fetch-Dest\": \"empty\",\n",
        "        \"Sec-Fetch-Mode\": \"cors\",\n",
        "        \"Sec-Fetch-Site\": \"same-site\",\n",
        "        \"User-Agent\": \"Mozilla/5.0 (Windows NT 10.0; Win64; x64) AppleWebKit/537.36 (KHTML, like Gecko) Chrome/119.0.0.0 Safari/537.36 Edg/119.0.0.0\"\n",
        "    }\n",
        "\n",
        "    current_page = 0\n",
        "    page_size = 60\n",
        "    all_products = []\n",
        "\n",
        "    while True:\n",
        "        payload = {\n",
        "            \"query\": \":relevance:zone:beautynhealth:street:main:\",\n",
        "            \"currentPage\": current_page,\n",
        "            \"pageSize\": page_size,\n",
        "            \"pageType\": \"searchResult\",\n",
        "            \"lang\": \"en\",\n",
        "            \"CSRFToken\": \"fe21ee82-09e6-4b40-9ab1-c1875f151c07\"\n",
        "        }\n",
        "\n",
        "        response = requests.post(url, headers=headers, data=payload)\n",
        "        data = response.json()\n",
        "\n",
        "        # Extract and process the data as needed\n",
        "        product_list = data.get('products', [])\n",
        "\n",
        "        if not product_list:\n",
        "            break  # No more products, exit the loop\n",
        "\n",
        "        for product in product_list:\n",
        "            # Extract relevant information\n",
        "            image_url = product.get('images', [{}])[0].get('url', '')\n",
        "            brand_product_name = product.get('brand', '') + ' ' + product.get('name', '')\n",
        "            sales_number = product.get('salesVolume', 0)\n",
        "            review_number = product.get('numberOfReviews', 0)\n",
        "            promotion_price = product.get('price', {}).get('formattedValue', '')\n",
        "            original_price = product.get('price', {}).get('value', 0)\n",
        "\n",
        "            # Output the information\n",
        "            print(f\"{'-'*20}\\n\"\n",
        "                  f\"image_url: {image_url}\\n\"\n",
        "                  f\"brand_product_name: {brand_product_name}\\n\"\n",
        "                  f\"sales_number: {sales_number}\\n\"\n",
        "                  f\"review_number: {review_number}\\n\"\n",
        "                  f\"promotion_price: {promotion_price}\\n\"\n",
        "                  f\"original_price: {original_price}\\n\")\n",
        "\n",
        "        all_products.extend(product_list)\n",
        "        current_page += 1\n",
        "\n",
        "        # time.sleep(2)\n",
        "\n",
        "    # Save data to a DataFrame and Excel file\n",
        "    data_dict = {\"data\": all_products}\n",
        "    df = pd.DataFrame.from_dict(data_dict['data'])\n",
        "    df.to_excel(\"beautynhealth.xlsx\", index=False)\n",
        "\n",
        "if __name__ == \"__main__\":\n",
        "      while True:\n",
        "        scrape_api()\n",
        "        print(\"Waiting for 5 minutes before starting again...\")\n",
        "        time.sleep(300)  # Sleep for 5 minutes (300 seconds)\n",
        "        print(\"Restarting the scraping process.\")"
      ],
      "metadata": {
        "id": "W-1-3gfyAbCI"
      },
      "execution_count": null,
      "outputs": []
    }
  ]
}