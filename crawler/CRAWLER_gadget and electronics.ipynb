{
 "cells": [
  {
   "cell_type": "code",
   "execution_count": 3,
   "id": "b8863175",
   "metadata": {},
   "outputs": [
    {
     "name": "stdout",
     "output_type": "stream",
     "text": [
      "Requirement already satisfied: requests in c:\\users\\user\\documents\\anaconda\\lib\\site-packages (2.31.0)\n",
      "Requirement already satisfied: urllib3<3,>=1.21.1 in c:\\users\\user\\documents\\anaconda\\lib\\site-packages (from requests) (1.26.14)\n",
      "Requirement already satisfied: idna<4,>=2.5 in c:\\users\\user\\documents\\anaconda\\lib\\site-packages (from requests) (3.4)\n",
      "Requirement already satisfied: charset-normalizer<4,>=2 in c:\\users\\user\\documents\\anaconda\\lib\\site-packages (from requests) (2.0.4)\n",
      "Requirement already satisfied: certifi>=2017.4.17 in c:\\users\\user\\documents\\anaconda\\lib\\site-packages (from requests) (2022.12.7)\n"
     ]
    }
   ],
   "source": [
    "!pip install --upgrade requests"
   ]
  },
  {
   "cell_type": "code",
   "execution_count": 4,
   "id": "79fcfa65",
   "metadata": {},
   "outputs": [
    {
     "name": "stdout",
     "output_type": "stream",
     "text": [
      "Collecting playwright\n",
      "  Downloading playwright-1.39.0-py3-none-win_amd64.whl (29.2 MB)\n",
      "     ---------------------------------------- 29.2/29.2 MB 1.5 MB/s eta 0:00:00\n",
      "Collecting bs4\n",
      "  Downloading bs4-0.0.1.tar.gz (1.1 kB)\n",
      "  Preparing metadata (setup.py): started\n",
      "  Preparing metadata (setup.py): finished with status 'done'\n",
      "Requirement already satisfied: pillow in c:\\users\\user\\documents\\anaconda\\lib\\site-packages (9.4.0)\n",
      "Requirement already satisfied: requests in c:\\users\\user\\documents\\anaconda\\lib\\site-packages (2.31.0)\n",
      "Collecting pyee==11.0.1\n",
      "  Downloading pyee-11.0.1-py3-none-any.whl (15 kB)\n",
      "Collecting greenlet==3.0.0\n",
      "  Downloading greenlet-3.0.0-cp310-cp310-win_amd64.whl (287 kB)\n",
      "     -------------------------------------- 287.7/287.7 kB 1.3 MB/s eta 0:00:00\n",
      "Requirement already satisfied: typing-extensions in c:\\users\\user\\documents\\anaconda\\lib\\site-packages (from pyee==11.0.1->playwright) (4.4.0)\n",
      "Requirement already satisfied: beautifulsoup4 in c:\\users\\user\\documents\\anaconda\\lib\\site-packages (from bs4) (4.11.1)\n",
      "Requirement already satisfied: urllib3<3,>=1.21.1 in c:\\users\\user\\documents\\anaconda\\lib\\site-packages (from requests) (1.26.14)\n",
      "Requirement already satisfied: certifi>=2017.4.17 in c:\\users\\user\\documents\\anaconda\\lib\\site-packages (from requests) (2022.12.7)\n",
      "Requirement already satisfied: charset-normalizer<4,>=2 in c:\\users\\user\\documents\\anaconda\\lib\\site-packages (from requests) (2.0.4)\n",
      "Requirement already satisfied: idna<4,>=2.5 in c:\\users\\user\\documents\\anaconda\\lib\\site-packages (from requests) (3.4)\n",
      "Requirement already satisfied: soupsieve>1.2 in c:\\users\\user\\documents\\anaconda\\lib\\site-packages (from beautifulsoup4->bs4) (2.3.2.post1)\n",
      "Building wheels for collected packages: bs4\n",
      "  Building wheel for bs4 (setup.py): started\n",
      "  Building wheel for bs4 (setup.py): finished with status 'done'\n",
      "  Created wheel for bs4: filename=bs4-0.0.1-py3-none-any.whl size=1264 sha256=35cce82f4bdb50c63781036cbe610cf0a0d35354b9131d24a37f0da580865bb7\n",
      "  Stored in directory: c:\\users\\user\\appdata\\local\\pip\\cache\\wheels\\e4\\62\\1d\\d4d1bc4f33350ff84227f89b258edb552d604138e3739f5c83\n",
      "Successfully built bs4\n",
      "Installing collected packages: pyee, greenlet, playwright, bs4\n",
      "  Attempting uninstall: greenlet\n",
      "    Found existing installation: greenlet 2.0.1\n",
      "    Uninstalling greenlet-2.0.1:\n",
      "      Successfully uninstalled greenlet-2.0.1\n",
      "Successfully installed bs4-0.0.1 greenlet-3.0.0 playwright-1.39.0 pyee-11.0.1\n"
     ]
    }
   ],
   "source": [
    "!pip install playwright bs4 pillow requests"
   ]
  },
  {
   "cell_type": "code",
   "execution_count": 5,
   "id": "8e03be1c",
   "metadata": {},
   "outputs": [
    {
     "name": "stdout",
     "output_type": "stream",
     "text": [
      "Downloading Chromium 119.0.6045.9 (playwright build v1084)\u001b[2m from https://playwright.azureedge.net/builds/chromium/1084/chromium-win64.zip\u001b[22m\n",
      "|                                                                                |   0% of 120.8 Mb\n",
      "|â– â– â– â– â– â– â– â–                                                                         |  10% of 120.8 Mb\n",
      "|â– â– â– â– â– â– â– â– â– â– â– â– â– â– â– â–                                                                 |  20% of 120.8 Mb\n",
      "|â– â– â– â– â– â– â– â– â– â– â– â– â– â– â– â– â– â– â– â– â– â– â– â–                                                         |  30% of 120.8 Mb\n",
      "|â– â– â– â– â– â– â– â– â– â– â– â– â– â– â– â– â– â– â– â– â– â– â– â– â– â– â– â– â– â– â– â–                                                 |  40% of 120.8 Mb\n",
      "|â– â– â– â– â– â– â– â– â– â– â– â– â– â– â– â– â– â– â– â– â– â– â– â– â– â– â– â– â– â– â– â– â– â– â– â– â– â– â– â–                                         |  50% of 120.8 Mb\n",
      "|â– â– â– â– â– â– â– â– â– â– â– â– â– â– â– â– â– â– â– â– â– â– â– â– â– â– â– â– â– â– â– â– â– â– â– â– â– â– â– â– â– â– â– â– â– â– â– â–                                 |  60% of 120.8 Mb\n",
      "|â– â– â– â– â– â– â– â– â– â– â– â– â– â– â– â– â– â– â– â– â– â– â– â– â– â– â– â– â– â– â– â– â– â– â– â– â– â– â– â– â– â– â– â– â– â– â– â– â– â– â– â– â– â– â– â–                         |  70% of 120.8 Mb\n",
      "|â– â– â– â– â– â– â– â– â– â– â– â– â– â– â– â– â– â– â– â– â– â– â– â– â– â– â– â– â– â– â– â– â– â– â– â– â– â– â– â– â– â– â– â– â– â– â– â– â– â– â– â– â– â– â– â– â– â– â– â– â– â– â– â–                 |  80% of 120.8 Mb\n",
      "|â– â– â– â– â– â– â– â– â– â– â– â– â– â– â– â– â– â– â– â– â– â– â– â– â– â– â– â– â– â– â– â– â– â– â– â– â– â– â– â– â– â– â– â– â– â– â– â– â– â– â– â– â– â– â– â– â– â– â– â– â– â– â– â– â– â– â– â– â– â– â– â–         |  90% of 120.8 Mb\n",
      "|â– â– â– â– â– â– â– â– â– â– â– â– â– â– â– â– â– â– â– â– â– â– â– â– â– â– â– â– â– â– â– â– â– â– â– â– â– â– â– â– â– â– â– â– â– â– â– â– â– â– â– â– â– â– â– â– â– â– â– â– â– â– â– â– â– â– â– â– â– â– â– â– â– â– â– â– â– â– â– â– | 100% of 120.8 Mb\n",
      "Chromium 119.0.6045.9 (playwright build v1084) downloaded to C:\\Users\\User\\AppData\\Local\\ms-playwright\\chromium-1084\n",
      "Downloading FFMPEG playwright build v1009\u001b[2m from https://playwright.azureedge.net/builds/ffmpeg/1009/ffmpeg-win64.zip\u001b[22m\n",
      "|                                                                                |   1% of 1.4 Mb\n",
      "|â– â– â– â– â– â– â– â–                                                                         |  10% of 1.4 Mb\n",
      "|â– â– â– â– â– â– â– â– â– â– â– â– â– â– â– â–                                                                 |  20% of 1.4 Mb\n",
      "|â– â– â– â– â– â– â– â– â– â– â– â– â– â– â– â– â– â– â– â– â– â– â– â–                                                         |  30% of 1.4 Mb\n",
      "|â– â– â– â– â– â– â– â– â– â– â– â– â– â– â– â– â– â– â– â– â– â– â– â– â– â– â– â– â– â– â– â–                                                 |  40% of 1.4 Mb\n",
      "|â– â– â– â– â– â– â– â– â– â– â– â– â– â– â– â– â– â– â– â– â– â– â– â– â– â– â– â– â– â– â– â– â– â– â– â– â– â– â– â–                                         |  50% of 1.4 Mb\n",
      "|â– â– â– â– â– â– â– â– â– â– â– â– â– â– â– â– â– â– â– â– â– â– â– â– â– â– â– â– â– â– â– â– â– â– â– â– â– â– â– â– â– â– â– â– â– â– â– â–                                 |  60% of 1.4 Mb\n",
      "|â– â– â– â– â– â– â– â– â– â– â– â– â– â– â– â– â– â– â– â– â– â– â– â– â– â– â– â– â– â– â– â– â– â– â– â– â– â– â– â– â– â– â– â– â– â– â– â– â– â– â– â– â– â– â– â–                         |  70% of 1.4 Mb\n",
      "|â– â– â– â– â– â– â– â– â– â– â– â– â– â– â– â– â– â– â– â– â– â– â– â– â– â– â– â– â– â– â– â– â– â– â– â– â– â– â– â– â– â– â– â– â– â– â– â– â– â– â– â– â– â– â– â– â– â– â– â– â– â– â– â–                 |  80% of 1.4 Mb\n",
      "|â– â– â– â– â– â– â– â– â– â– â– â– â– â– â– â– â– â– â– â– â– â– â– â– â– â– â– â– â– â– â– â– â– â– â– â– â– â– â– â– â– â– â– â– â– â– â– â– â– â– â– â– â– â– â– â– â– â– â– â– â– â– â– â– â– â– â– â– â– â– â– â–         |  90% of 1.4 Mb\n",
      "|â– â– â– â– â– â– â– â– â– â– â– â– â– â– â– â– â– â– â– â– â– â– â– â– â– â– â– â– â– â– â– â– â– â– â– â– â– â– â– â– â– â– â– â– â– â– â– â– â– â– â– â– â– â– â– â– â– â– â– â– â– â– â– â– â– â– â– â– â– â– â– â– â– â– â– â– â– â– â– â– | 100% of 1.4 Mb\n",
      "FFMPEG playwright build v1009 downloaded to C:\\Users\\User\\AppData\\Local\\ms-playwright\\ffmpeg-1009\n",
      "Downloading Firefox 118.0.1 (playwright build v1425)\u001b[2m from https://playwright.azureedge.net/builds/firefox/1425/firefox-win64.zip\u001b[22m\n",
      "|                                                                                |   0% of 80 Mb\n",
      "|â– â– â– â– â– â– â– â–                                                                         |  10% of 80 Mb\n",
      "|â– â– â– â– â– â– â– â– â– â– â– â– â– â– â– â–                                                                 |  20% of 80 Mb\n",
      "|â– â– â– â– â– â– â– â– â– â– â– â– â– â– â– â– â– â– â– â– â– â– â– â–                                                         |  30% of 80 Mb\n",
      "|â– â– â– â– â– â– â– â– â– â– â– â– â– â– â– â– â– â– â– â– â– â– â– â– â– â– â– â– â– â– â– â–                                                 |  40% of 80 Mb\n",
      "|â– â– â– â– â– â– â– â– â– â– â– â– â– â– â– â– â– â– â– â– â– â– â– â– â– â– â– â– â– â– â– â– â– â– â– â– â– â– â– â–                                         |  50% of 80 Mb\n",
      "|â– â– â– â– â– â– â– â– â– â– â– â– â– â– â– â– â– â– â– â– â– â– â– â– â– â– â– â– â– â– â– â– â– â– â– â– â– â– â– â– â– â– â– â– â– â– â– â–                                 |  60% of 80 Mb\n",
      "|â– â– â– â– â– â– â– â– â– â– â– â– â– â– â– â– â– â– â– â– â– â– â– â– â– â– â– â– â– â– â– â– â– â– â– â– â– â– â– â– â– â– â– â– â– â– â– â– â– â– â– â– â– â– â– â–                         |  70% of 80 Mb\n",
      "|â– â– â– â– â– â– â– â– â– â– â– â– â– â– â– â– â– â– â– â– â– â– â– â– â– â– â– â– â– â– â– â– â– â– â– â– â– â– â– â– â– â– â– â– â– â– â– â– â– â– â– â– â– â– â– â– â– â– â– â– â– â– â– â–                 |  80% of 80 Mb\n",
      "|â– â– â– â– â– â– â– â– â– â– â– â– â– â– â– â– â– â– â– â– â– â– â– â– â– â– â– â– â– â– â– â– â– â– â– â– â– â– â– â– â– â– â– â– â– â– â– â– â– â– â– â– â– â– â– â– â– â– â– â– â– â– â– â– â– â– â– â– â– â– â– â–         |  90% of 80 Mb\n",
      "|â– â– â– â– â– â– â– â– â– â– â– â– â– â– â– â– â– â– â– â– â– â– â– â– â– â– â– â– â– â– â– â– â– â– â– â– â– â– â– â– â– â– â– â– â– â– â– â– â– â– â– â– â– â– â– â– â– â– â– â– â– â– â– â– â– â– â– â– â– â– â– â– â– â– â– â– â– â– â– â– | 100% of 80 Mb\n",
      "Firefox 118.0.1 (playwright build v1425) downloaded to C:\\Users\\User\\AppData\\Local\\ms-playwright\\firefox-1425\n",
      "Downloading Webkit 17.4 (playwright build v1921)\u001b[2m from https://playwright.azureedge.net/builds/webkit/1921/webkit-win64.zip\u001b[22m\n",
      "|                                                                                |   0% of 44.5 Mb\n",
      "|â– â– â– â– â– â– â– â–                                                                         |  10% of 44.5 Mb\n",
      "|â– â– â– â– â– â– â– â– â– â– â– â– â– â– â– â–                                                                 |  20% of 44.5 Mb\n",
      "|â– â– â– â– â– â– â– â– â– â– â– â– â– â– â– â– â– â– â– â– â– â– â– â–                                                         |  30% of 44.5 Mb\n",
      "|â– â– â– â– â– â– â– â– â– â– â– â– â– â– â– â– â– â– â– â– â– â– â– â– â– â– â– â– â– â– â– â–                                                 |  40% of 44.5 Mb\n",
      "|â– â– â– â– â– â– â– â– â– â– â– â– â– â– â– â– â– â– â– â– â– â– â– â– â– â– â– â– â– â– â– â– â– â– â– â– â– â– â– â–                                         |  50% of 44.5 Mb\n",
      "|â– â– â– â– â– â– â– â– â– â– â– â– â– â– â– â– â– â– â– â– â– â– â– â– â– â– â– â– â– â– â– â– â– â– â– â– â– â– â– â– â– â– â– â– â– â– â– â–                                 |  60% of 44.5 Mb\n",
      "|â– â– â– â– â– â– â– â– â– â– â– â– â– â– â– â– â– â– â– â– â– â– â– â– â– â– â– â– â– â– â– â– â– â– â– â– â– â– â– â– â– â– â– â– â– â– â– â– â– â– â– â– â– â– â– â–                         |  70% of 44.5 Mb\n",
      "|â– â– â– â– â– â– â– â– â– â– â– â– â– â– â– â– â– â– â– â– â– â– â– â– â– â– â– â– â– â– â– â– â– â– â– â– â– â– â– â– â– â– â– â– â– â– â– â– â– â– â– â– â– â– â– â– â– â– â– â– â– â– â– â–                 |  80% of 44.5 Mb\n",
      "|â– â– â– â– â– â– â– â– â– â– â– â– â– â– â– â– â– â– â– â– â– â– â– â– â– â– â– â– â– â– â– â– â– â– â– â– â– â– â– â– â– â– â– â– â– â– â– â– â– â– â– â– â– â– â– â– â– â– â– â– â– â– â– â– â– â– â– â– â– â– â– â–         |  90% of 44.5 Mb\n",
      "|â– â– â– â– â– â– â– â– â– â– â– â– â– â– â– â– â– â– â– â– â– â– â– â– â– â– â– â– â– â– â– â– â– â– â– â– â– â– â– â– â– â– â– â– â– â– â– â– â– â– â– â– â– â– â– â– â– â– â– â– â– â– â– â– â– â– â– â– â– â– â– â– â– â– â– â– â– â– â– â– | 100% of 44.5 Mb\n",
      "Webkit 17.4 (playwright build v1921) downloaded to C:\\Users\\User\\AppData\\Local\\ms-playwright\\webkit-1921\n"
     ]
    }
   ],
   "source": [
    "!playwright install"
   ]
  },
  {
   "cell_type": "code",
   "execution_count": null,
   "id": "c621cf51",
   "metadata": {},
   "outputs": [],
   "source": [
    "!pip install pandas openpyxl"
   ]
  },
  {
   "cell_type": "code",
   "execution_count": null,
   "id": "0b09d7ab",
   "metadata": {},
   "outputs": [],
   "source": [
    "!playwright install-deps"
   ]
  },
  {
   "cell_type": "code",
   "execution_count": 2,
   "id": "25175cc6",
   "metadata": {},
   "outputs": [
    {
     "name": "stdout",
     "output_type": "stream",
     "text": [
      "IPython autoawait is `on`, and set to use `asyncio`\n"
     ]
    },
    {
     "ename": "ModuleNotFoundError",
     "evalue": "No module named 'playwright'",
     "output_type": "error",
     "traceback": [
      "\u001b[1;31m---------------------------------------------------------------------------\u001b[0m",
      "\u001b[1;31mModuleNotFoundError\u001b[0m                       Traceback (most recent call last)",
      "Cell \u001b[1;32mIn[2], line 3\u001b[0m\n\u001b[0;32m      1\u001b[0m get_ipython()\u001b[38;5;241m.\u001b[39mrun_line_magic(\u001b[38;5;124m'\u001b[39m\u001b[38;5;124mautoawait\u001b[39m\u001b[38;5;124m'\u001b[39m, \u001b[38;5;124m'\u001b[39m\u001b[38;5;124m'\u001b[39m)\n\u001b[0;32m      2\u001b[0m \u001b[38;5;28;01mimport\u001b[39;00m \u001b[38;5;21;01masyncio\u001b[39;00m\n\u001b[1;32m----> 3\u001b[0m \u001b[38;5;28;01mfrom\u001b[39;00m \u001b[38;5;21;01mplaywright\u001b[39;00m\u001b[38;5;21;01m.\u001b[39;00m\u001b[38;5;21;01masync_api\u001b[39;00m \u001b[38;5;28;01mimport\u001b[39;00m async_playwright\n\u001b[0;32m      4\u001b[0m \u001b[38;5;28;01mfrom\u001b[39;00m \u001b[38;5;21;01mbs4\u001b[39;00m \u001b[38;5;28;01mimport\u001b[39;00m BeautifulSoup\n\u001b[0;32m      7\u001b[0m \u001b[38;5;28;01masync\u001b[39;00m \u001b[38;5;28;01mdef\u001b[39;00m \u001b[38;5;21mget_products\u001b[39m():\n",
      "\u001b[1;31mModuleNotFoundError\u001b[0m: No module named 'playwright'"
     ]
    }
   ],
   "source": [
    "%autoawait\n",
    "import asyncio\n",
    "from playwright.async_api import async_playwright\n",
    "from bs4 import BeautifulSoup\n",
    "\n",
    "\n",
    "async def get_products():\n",
    "    async with async_playwright() as p:\n",
    "        browser = await p.firefox.launch(headless=True)\n",
    "        page = await browser.new_page()\n",
    "        page_number=0\n",
    "        data =[]\n",
    "        while True:\n",
    "              url = f\"https://www.hktvmall.com/hktv/en/Gadgets-and-Electronics/Mobile-Phone/main/search?page={page_number}&q=%3Arelevance%3Azone%3Agadgetsandelectronics%3Astreet%3Amain%3A\"\n",
    "              print(page_number)\n",
    "              await page.goto(url)\n",
    "              await asyncio.sleep(6)\n",
    "              soup = BeautifulSoup(await page.content(), 'html.parser')\n",
    "\n",
    "\n",
    "              body =soup.find('body', class_='page-search pageType-ContentPage template-pages-search-searchListPage pageLabel-search language-en gadgetsandelectronics street-gadgetsandelectronics')\n",
    "\n",
    "              main_wrapper = body.find('div', id='mainWrapper')\n",
    "\n",
    "              personalcarenhealth = main_wrapper.find('div', class_='gadgetsandelectronics')\n",
    "\n",
    "              wrapper_content_personalcarenhealth = personalcarenhealth.find('div', class_=\"wrapper-content gadgetsandelectronics\")\n",
    "\n",
    "              wrapper_content_right = wrapper_content_personalcarenhealth.find('div', class_='wrapper-content-right')\n",
    "\n",
    "              product_search_container = wrapper_content_right.find('div', id='product-search-container')\n",
    "              # print(product_search_container)\n",
    "              product_result = product_search_container.find('div', id =\"product-result\")\n",
    "              #print(product_result)\n",
    "              product_grid = product_result.find('div', class_='productGrid')\n",
    "              with_impression_track = product_grid.find('div', class_='with-impression-track')\n",
    "              if not with_impression_track:\n",
    "                break\n",
    "              product_brief_list=with_impression_track.find('div', class_='product-brief-list')\n",
    "              product_brief_wrappers=product_brief_list.find_all('span', class_='product-brief-wrapper')\n",
    "\n",
    "              for product_brief_wrapper in product_brief_wrappers:\n",
    "                  square_wrapper = product_brief_wrapper.find('div', class_='square-wrapper')\n",
    "                  image_container = square_wrapper.find('div', class_='image-container') if square_wrapper else None\n",
    "                  img = image_container.find('img') if image_container else None\n",
    "                  image_url = img['src'] if img else \"no value\"\n",
    "\n",
    "                  info_wrapper = product_brief_wrapper.find('div', class_='info-wrapper')\n",
    "\n",
    "                  upper_wrapper = info_wrapper.find('div', class_='upper-wrapper') if info_wrapper else None\n",
    "\n",
    "                  brand_product_name_div = upper_wrapper.find('div', class_='brand-product-name') if upper_wrapper else None\n",
    "                  h4 = brand_product_name_div.find('h4') if brand_product_name_div else None\n",
    "                  brand_product_name = h4.text if h4 else \"no value\"\n",
    "\n",
    "                  sales_number_div = upper_wrapper.find('div', class_='salesNumber-container') if upper_wrapper else None\n",
    "                  span_sales_number = sales_number_div.find('span') if sales_number_div else None\n",
    "                  sales_number = span_sales_number.text if span_sales_number else \"no value\"\n",
    "\n",
    "                  review_info = upper_wrapper.find('div', class_='review-info') if upper_wrapper else None\n",
    "                  review_number_span = review_info.find('span', class_='review-number') if review_info else None\n",
    "                  review_number = review_number_span.text if review_number_span else \"no value\"\n",
    "\n",
    "                  lower_wrapper = info_wrapper.find('div', class_='lower-wrapper') if info_wrapper else None\n",
    "\n",
    "                  price_label_div = lower_wrapper.find('div', class_='price-label') if lower_wrapper else None\n",
    "\n",
    "                  promotion_div = price_label_div.find('div', class_='promotional') if price_label_div else None\n",
    "                  promotion_span = promotion_div.find('span') if promotion_div else None\n",
    "                  promotion_price = promotion_span.text if promotion_span else \"no value\"\n",
    "\n",
    "                  price_div = price_label_div.find('div', class_='price') if price_label_div else None\n",
    "                  original_price_span = price_div.find('span') if price_div else None\n",
    "                  original_price = original_price_span.text if original_price_span else \"no value\"\n",
    "                  product_data = {\n",
    "                    'image_url': image_url,\n",
    "                    'brand_product_name': brand_product_name,\n",
    "                    'sales_number': sales_number,\n",
    "                    'review_number': review_number,\n",
    "                    'promotion_price': promotion_price,\n",
    "                    'original_price': original_price\n",
    "                   }\n",
    "                  data.append(product_data)\n",
    "              page_number+=1\n",
    "\n",
    "\n",
    "\n",
    "        await browser.close()\n",
    "        data_dict = {\"category\": \"gadgets and elctronics\", \"data\": data}\n",
    "        # Save the `product_data` dictionary as individual columns in the Excel file `output.xlsx`\n",
    "        df = pd.DataFrame.from_dict(data_dict['data'])\n",
    "        df.to_excel(\"gadgets and electronics.xlsx\", index=False)\n",
    "    return data_dict\n",
    "\n",
    "while True:\n",
    "    await get_products()\n",
    "    time.sleep(28800)\n"
   ]
  },
  {
   "cell_type": "code",
   "execution_count": null,
   "id": "ef8592ec",
   "metadata": {},
   "outputs": [],
   "source": []
  }
 ],
 "metadata": {
  "kernelspec": {
   "display_name": "Python 3 (ipykernel)",
   "language": "python",
   "name": "python3"
  },
  "language_info": {
   "codemirror_mode": {
    "name": "ipython",
    "version": 3
   },
   "file_extension": ".py",
   "mimetype": "text/x-python",
   "name": "python",
   "nbconvert_exporter": "python",
   "pygments_lexer": "ipython3",
   "version": "3.10.9"
  }
 },
 "nbformat": 4,
 "nbformat_minor": 5
}
