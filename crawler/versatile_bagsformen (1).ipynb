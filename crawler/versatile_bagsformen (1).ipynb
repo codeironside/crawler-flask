{
  "nbformat": 4,
  "nbformat_minor": 0,
  "metadata": {
    "colab": {
      "provenance": []
    },
    "kernelspec": {
      "name": "python3",
      "display_name": "Python 3"
    },
    "language_info": {
      "name": "python"
    }
  },
  "cells": [
    {
      "cell_type": "code",
      "execution_count": 6,
      "metadata": {
        "id": "L96Iylx3YO1a",
        "colab": {
          "base_uri": "https://localhost:8080/"
        },
        "outputId": "a0494366-900a-4e2e-b499-f7e6f3b2ce49"
      },
      "outputs": [
        {
          "output_type": "stream",
          "name": "stdout",
          "text": [
            "Requirement already satisfied: brotli in /usr/local/lib/python3.10/dist-packages (1.1.0)\n"
          ]
        }
      ],
      "source": [
        "!pip install brotli"
      ]
    },
    {
      "cell_type": "code",
      "source": [
        "!pip install schedule"
      ],
      "metadata": {
        "id": "4aHf4cJQYPgg",
        "colab": {
          "base_uri": "https://localhost:8080/"
        },
        "outputId": "a86b13c3-74e1-49bc-d144-dd0a8d32c81e"
      },
      "execution_count": 7,
      "outputs": [
        {
          "output_type": "stream",
          "name": "stdout",
          "text": [
            "Requirement already satisfied: schedule in /usr/local/lib/python3.10/dist-packages (1.2.1)\n"
          ]
        }
      ]
    },
    {
      "cell_type": "code",
      "source": [
        "!pip install requests"
      ],
      "metadata": {
        "id": "0csqLYR7YPpW",
        "colab": {
          "base_uri": "https://localhost:8080/"
        },
        "outputId": "c7517d03-8373-4502-b341-9488842faf18"
      },
      "execution_count": 8,
      "outputs": [
        {
          "output_type": "stream",
          "name": "stdout",
          "text": [
            "Requirement already satisfied: requests in /usr/local/lib/python3.10/dist-packages (2.31.0)\n",
            "Requirement already satisfied: charset-normalizer<4,>=2 in /usr/local/lib/python3.10/dist-packages (from requests) (3.3.2)\n",
            "Requirement already satisfied: idna<4,>=2.5 in /usr/local/lib/python3.10/dist-packages (from requests) (3.6)\n",
            "Requirement already satisfied: urllib3<3,>=1.21.1 in /usr/local/lib/python3.10/dist-packages (from requests) (2.0.7)\n",
            "Requirement already satisfied: certifi>=2017.4.17 in /usr/local/lib/python3.10/dist-packages (from requests) (2023.11.17)\n"
          ]
        }
      ]
    },
    {
      "cell_type": "code",
      "source": [
        "!pip install openpyxl"
      ],
      "metadata": {
        "id": "pNScd4GWYPvi",
        "colab": {
          "base_uri": "https://localhost:8080/"
        },
        "outputId": "1e03085b-99e9-40e4-e3ca-2ee4b87c4cb5"
      },
      "execution_count": 9,
      "outputs": [
        {
          "output_type": "stream",
          "name": "stdout",
          "text": [
            "Requirement already satisfied: openpyxl in /usr/local/lib/python3.10/dist-packages (3.1.2)\n",
            "Requirement already satisfied: et-xmlfile in /usr/local/lib/python3.10/dist-packages (from openpyxl) (1.1.0)\n"
          ]
        }
      ]
    },
    {
      "cell_type": "code",
      "source": [
        "import requests\n",
        "import json\n",
        "import brotli\n",
        "import pandas as pd\n",
        "import schedule\n",
        "import time\n",
        "\n",
        "def job():\n",
        "    # Define the URL and headers\n",
        "    url = \"https://search.vestiairecollective.com/v1/product/search\"\n",
        "    headers = {\n",
        "        \"Accept\": \"application/json\",\n",
        "        \"Accept-Encoding\": \"gzip, deflate, br\",\n",
        "        \"Accept-Language\": \"en-US,en;q=0.9\",\n",
        "        \"Content-Type\": \"application/json\",\n",
        "        \"Origin\": \"https://www.vestiairecollective.com\",\n",
        "        \"Referer\": \"https://www.vestiairecollective.com/\",\n",
        "        \"User-Agent\": \"Mozilla/5.0 (Windows NT 10.0; Win64; x64) AppleWebKit/537.36 (KHTML, like Gecko) Chrome/120.0.0.0 Safari/537.36 Edg/120.0.0.0\",\n",
        "        \"X-Usertoken\": \"anonymous-7cc1f380-028a-4baf-aa91-1e2c3dccca8a\"\n",
        "    }\n",
        "    total_products = 0\n",
        "    # Define the payload\n",
        "\n",
        "    pdata = []\n",
        "    items_per_page = 48\n",
        "\n",
        "    # Initialize the offset\n",
        "    offset = 0\n",
        "\n",
        "    # Make the POST request for each page\n",
        "    while True:\n",
        "        # Update the offset in the payload\n",
        "        payload = {\"pagination\":{\"offset\":offset,\"limit\":48},\n",
        "                  \"fields\":[\"name\",\"description\",\"brand\",\"model\",\"country\",\"price\",\"discount\",\"link\",\"sold\",\"likes\",\"editorPicks\",\"shouldBeGone\",\"seller\",\"directShipping\",\"local\",\"pictures\",\"colors\",\"size\",\"stock\",\"universeId\",\"createdAt\",\"dutyFree\"],\n",
        "                  \"facets\":{\"fields\":[\"brand\",\"universe\",\"country\",\"stock\",\"color\",\"categoryLvl0\",\"priceRange\",\"price\",\"condition\",\"region\",\"editorPicks\",\"watchMechanism\",\"discount\",\"sold\",\"directShippingEligible\",\"directShippingCountries\",\"localCountries\",\"sellerBadge\",\"isOfficialStore\",\"materialLvl0\",\"size0\",\"size1\",\"size2\",\"size3\",\"size4\",\"size5\",\"size6\",\"size7\",\"size8\",\"size9\",\"size10\",\"size11\",\"size12\",\"size13\",\"size14\",\"size15\",\"size16\",\"size17\",\"size18\",\"size19\",\"size20\",\"size21\",\"size22\",\"size23\",\"categoryLvl1\",\"dutyFree\"],\n",
        "                            \"stats\":[\"price\"]},\n",
        "                  \"q\":None,\n",
        "                  \"sortBy\":\"relevance\",\"filters\":{\"categoryLvl0.id\":[\"141\"],\"universe.id\":[\"2\"],\n",
        "                                                  \"catalogLinksWithoutLanguage\":[\"/men-bags/\"]},\n",
        "                  \"locale\":{\"country\":\"US\",\"currency\":\"USD\",\"language\":\"us\",\"sizeType\":\"US\"},\n",
        "                  \"mySizes\":None}\n",
        "\n",
        "        try:\n",
        "            response = requests.post(url, headers=headers, data=json.dumps(payload))\n",
        "\n",
        "            # If the response is None or the status code is not 200, break the loop\n",
        "            if response is None or response.status_code != 200:\n",
        "                print(f\"Request failed with status code {response.status_code if response else 'None'}\")\n",
        "                break\n",
        "\n",
        "            # Decompress the response content\n",
        "            decompressed_data = brotli.decompress(response.content)\n",
        "\n",
        "            # Parse the response\n",
        "            data = json.loads(decompressed_data)\n",
        "\n",
        "            # Extract the items\n",
        "            items = data.get('items', [])\n",
        "\n",
        "            # If items is empty, we've reached the end, so break the loop\n",
        "            if not items:\n",
        "                break\n",
        "            # Count the number of products\n",
        "            total_products += len(items)\n",
        "\n",
        "            # Increment the offset by the number of items per page\n",
        "            offset += items_per_page\n",
        "            # Now you can work with the items\n",
        "            for item in items:\n",
        "              print(f\"{'-'*30}\")\n",
        "              print(f\"Name: {item.get('name', 'null')}\")\n",
        "              print(f\"Description: {item.get('description', 'null')}\")\n",
        "              print(f\"Price: {item.get('price', {}).get('cents', 'null')} {item.get('price', {}).get('currency', 'null')}\")\n",
        "              print(f\"Discount Price: {item.get('discount', {}).get('originalPrice', {}).get('cents', 'null')} {item.get('discount', {}).get('originalPrice', {}).get('currency', 'null')}\")\n",
        "              print(f\"Likes: {item.get('likes', 'null')}\")\n",
        "              print(f\"Picture: https://images.vestiairecollective.com/images/resized/w=480,q=75,f=auto,{item.get('pictures', ['null'])[0]}\")  # Assuming there's at least one picture\n",
        "              print(f\"{'-'*30}\\n\")\n",
        "              pdata.append({\n",
        "                    \"Name\": item.get('name', 'null'),\n",
        "                    \"Description\": item.get('description', 'null'),\n",
        "                    \"Price\": f\"{item.get('price', {}).get('cents', 'null')} {item.get('price', {}).get('currency', 'null')}\",\n",
        "                    \"Discount Price\": f\"{item.get('discount', {}).get('originalPrice', {}).get('cents', 'null')} {item.get('discount', {}).get('originalPrice', {}).get('currency', 'null')}\",\n",
        "                    \"Likes\": item.get('likes', 'null'),\n",
        "                    \"Picture\": f\"https://images.vestiairecollective.com/images/resized/w=480,q=75,f=auto,{item.get('pictures', ['null'])[0]}\"  # Assuming there's at least one picture\n",
        "                })\n",
        "\n",
        "\n",
        "            # Increment the offset by the number of items per page\n",
        "            print(offset)\n",
        "\n",
        "        except Exception as e:\n",
        "            print(f\"the end\")\n",
        "            break\n",
        "\n",
        "    print(f\"Total number of products: {total_products}\")\n",
        "    # Convert the list to a DataFrame\n",
        "    df = pd.DataFrame(pdata)\n",
        "    # Create a DataFrame for the final offset and total number of products\n",
        "    df_final = pd.DataFrame([{\"Name\": f\"Final Offset: {offset}\", \"Description\": f\"Total Products: {total_products}\"}])\n",
        "\n",
        "    # Append df_final to df\n",
        "    df = pd.concat([df, df_final], ignore_index=True)\n",
        "\n",
        "    # Save the DataFrame to an Excel file\n",
        "    df.to_excel(\"bagsformen.xlsx\", index=False)\n",
        "while True:\n",
        "    job()\n",
        "    time.sleep(10)\n",
        "    print(f\"{'-'*30}\",\"starting over\")"
      ],
      "metadata": {
        "id": "vW4pWDm0YP0-",
        "colab": {
          "base_uri": "https://localhost:8080/",
          "height": 522
        },
        "outputId": "04e30ec6-dc00-451d-d00a-505f3d6e73c1"
      },
      "execution_count": 10,
      "outputs": [
        {
          "output_type": "stream",
          "name": "stdout",
          "text": [
            "the end\n",
            "Total number of products: 0\n",
            "------------------------------ starting over\n",
            "the end\n",
            "Total number of products: 0\n",
            "------------------------------ starting over\n",
            "the end\n",
            "Total number of products: 0\n",
            "------------------------------ starting over\n",
            "the end\n",
            "Total number of products: 0\n",
            "------------------------------ starting over\n",
            "the end\n",
            "Total number of products: 0\n",
            "------------------------------ starting over\n",
            "the end\n",
            "Total number of products: 0\n"
          ]
        },
        {
          "output_type": "error",
          "ename": "KeyboardInterrupt",
          "evalue": "",
          "traceback": [
            "\u001b[0;31m---------------------------------------------------------------------------\u001b[0m",
            "\u001b[0;31mKeyboardInterrupt\u001b[0m                         Traceback (most recent call last)",
            "\u001b[0;32m<ipython-input-10-92a51ae88951>\u001b[0m in \u001b[0;36m<cell line: 106>\u001b[0;34m()\u001b[0m\n\u001b[1;32m    106\u001b[0m \u001b[0;32mwhile\u001b[0m \u001b[0;32mTrue\u001b[0m\u001b[0;34m:\u001b[0m\u001b[0;34m\u001b[0m\u001b[0;34m\u001b[0m\u001b[0m\n\u001b[1;32m    107\u001b[0m     \u001b[0mjob\u001b[0m\u001b[0;34m(\u001b[0m\u001b[0;34m)\u001b[0m\u001b[0;34m\u001b[0m\u001b[0;34m\u001b[0m\u001b[0m\n\u001b[0;32m--> 108\u001b[0;31m     \u001b[0mtime\u001b[0m\u001b[0;34m.\u001b[0m\u001b[0msleep\u001b[0m\u001b[0;34m(\u001b[0m\u001b[0;36m10\u001b[0m\u001b[0;34m)\u001b[0m\u001b[0;34m\u001b[0m\u001b[0;34m\u001b[0m\u001b[0m\n\u001b[0m\u001b[1;32m    109\u001b[0m     \u001b[0mprint\u001b[0m\u001b[0;34m(\u001b[0m\u001b[0;34mf\"{'-'*30}\"\u001b[0m\u001b[0;34m,\u001b[0m\u001b[0;34m\"starting over\"\u001b[0m\u001b[0;34m)\u001b[0m\u001b[0;34m\u001b[0m\u001b[0;34m\u001b[0m\u001b[0m\n",
            "\u001b[0;31mKeyboardInterrupt\u001b[0m: "
          ]
        }
      ]
    }
  ]
}