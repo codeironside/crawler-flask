{
  "cells": [
    {
      "cell_type": "code",
      "execution_count": null,
      "id": "372b6060",
      "metadata": {
        "id": "372b6060"
      },
      "outputs": [],
      "source": [
        "!pip install --upgrade requests"
      ]
    },
    {
      "cell_type": "code",
      "execution_count": null,
      "id": "f33dd2b9",
      "metadata": {
        "id": "f33dd2b9"
      },
      "outputs": [],
      "source": [
        "!pip install playwright bs4 pillow requests"
      ]
    },
    {
      "cell_type": "code",
      "execution_count": null,
      "id": "a47058e7",
      "metadata": {
        "id": "a47058e7"
      },
      "outputs": [],
      "source": [
        "!playwright install"
      ]
    },
    {
      "cell_type": "code",
      "execution_count": null,
      "id": "1ab85df8",
      "metadata": {
        "id": "1ab85df8"
      },
      "outputs": [],
      "source": [
        "!playwright install-deps"
      ]
    },
    {
      "cell_type": "code",
      "execution_count": null,
      "id": "d1471b81",
      "metadata": {
        "id": "d1471b81"
      },
      "outputs": [],
      "source": [
        "!pip install pandas openpyxl"
      ]
    },
    {
      "cell_type": "code",
      "execution_count": null,
      "id": "06e02e14",
      "metadata": {
        "id": "06e02e14"
      },
      "outputs": [],
      "source": [
        "import requests\n",
        "import pandas as pd\n",
        "import time\n",
        "\n",
        "\n",
        "def clean_text(text):\n",
        "    # Replace illegal characters with underscores\n",
        "    cleaned_text = re.sub(r'[\\\\/*?[\\]:]', '_', text)\n",
        "    return cleaned_text\n",
        "\n",
        "def scrape_api():\n",
        "    url = \"https://cate-search.hktvmall.com/query/products\"\n",
        "    headers = {\n",
        "        \"Accept\": \"application/json, text/javascript, */*; q=0.01\",\n",
        "        \"Accept-Encoding\": \"gzip, deflate, br\",\n",
        "        \"Accept-Language\": \"en-US,en;q=0.9\",\n",
        "        \"Content-Type\": \"application/x-www-form-urlencoded; charset=UTF-8\",\n",
        "        \"Origin\": \"https://www.hktvmall.com\",\n",
        "        \"Referer\": \"https://www.hktvmall.com/\",\n",
        "        \"Sec-Ch-Ua\": \"\\\"Microsoft Edge\\\";v=\\\"119\\\", \\\"Chromium\\\";v=\\\"119\\\", \\\"Not?A_Brand\\\";v=\\\"24\\\"\",\n",
        "        \"Sec-Ch-Ua-Mobile\": \"?0\",\n",
        "        \"Sec-Ch-Ua-Platform\": \"\\\"Windows\\\"\",\n",
        "        \"Sec-Fetch-Dest\": \"empty\",\n",
        "        \"Sec-Fetch-Mode\": \"cors\",\n",
        "        \"Sec-Fetch-Site\": \"same-site\",\n",
        "        \"User-Agent\": \"Mozilla/5.0 (Windows NT 10.0; Win64; x64) AppleWebKit/537.36 (KHTML, like Gecko) Chrome/119.0.0.0 Safari/537.36 Edg/119.0.0.0\"\n",
        "    }\n",
        "\n",
        "    current_page = 0\n",
        "    page_size = 60\n",
        "    all_products = []\n",
        "\n",
        "    while True:\n",
        "        payload = {\n",
        "            \"query\": \":relevance:zone:supermarket:street:main:\",\n",
        "            \"currentPage\": current_page,\n",
        "            \"pageSize\": page_size,\n",
        "            \"pageType\": \"searchResult\",\n",
        "            \"lang\": \"en\",\n",
        "            \"CSRFToken\": \"fe21ee82-09e6-4b40-9ab1-c1875f151c07\"\n",
        "        }\n",
        "\n",
        "        response = requests.post(url, headers=headers, data=payload)\n",
        "        data = response.json()\n",
        "\n",
        "        # Extract and process the data as needed\n",
        "        product_list = data.get('products', [])\n",
        "\n",
        "        if not product_list:\n",
        "            break  # No more products, exit the loop\n",
        "\n",
        "        for product in product_list:\n",
        "            # Extract relevant information\n",
        "            image_url = product.get('images', [{}])[0].get('url', '')\n",
        "            brand_product_name = product.get('brand', '') + ' ' + product.get('name', '')\n",
        "            sales_number = product.get('salesVolume', 0)\n",
        "            review_number = product.get('numberOfReviews', 0)\n",
        "            promotion_price = product.get('price', {}).get('formattedValue', '')\n",
        "            original_price = product.get('price', {}).get('value', 0)\n",
        "\n",
        "            # Output the information\n",
        "            print(f\"{'-'*20}\\n\"\n",
        "                  f\"image_url: {image_url}\\n\"\n",
        "                  f\"brand_product_name: {brand_product_name}\\n\"\n",
        "                  f\"sales_number: {sales_number}\\n\"\n",
        "                  f\"review_number: {review_number}\\n\"\n",
        "                  f\"promotion_price: {promotion_price}\\n\"\n",
        "                  f\"original_price: {original_price}\\n\")\n",
        "\n",
        "        all_products.extend(product_list)\n",
        "        current_page += 1\n",
        "\n",
        "        # time.sleep(2)\n",
        "\n",
        "    # Save data to a DataFrame and Excel file\n",
        "    data_dict = {\"data\": all_products}\n",
        "    df = pd.DataFrame.from_dict(data_dict['data'])\n",
        "    df.to_excel(\"supermarket.xlsx\", index=False)\n",
        "\n",
        "if __name__ == \"__main__\":\n",
        "      while True:\n",
        "        scrape_api()\n",
        "        print(\"Waiting for 5 minutes before starting again...\")\n",
        "        time.sleep(300)  # Sleep for 5 minutes (300 seconds)\n",
        "        print(\"Restarting the scraping process.\")"
      ]
    }
  ],
  "metadata": {
    "kernelspec": {
      "display_name": "Python 3 (ipykernel)",
      "language": "python",
      "name": "python3"
    },
    "language_info": {
      "codemirror_mode": {
        "name": "ipython",
        "version": 3
      },
      "file_extension": ".py",
      "mimetype": "text/x-python",
      "name": "python",
      "nbconvert_exporter": "python",
      "pygments_lexer": "ipython3",
      "version": "3.10.9"
    },
    "colab": {
      "provenance": []
    }
  },
  "nbformat": 4,
  "nbformat_minor": 5
}